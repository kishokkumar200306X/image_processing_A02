{
 "cells": [
  {
   "cell_type": "code",
   "execution_count": 3,
   "metadata": {},
   "outputs": [],
   "source": [
    "import cv2\n",
    "import numpy as np\n",
    "\n",
    "# Load the architectural image and the flag image\n",
    "architectural_img = cv2.imread('blob.jpeg')\n",
    "flag_img = cv2.imread('Flag_of_the_United_Kingdom_(1-2).svg.png')\n",
    "\n",
    "# Define corresponding points in both images\n",
    "[x1,y1]= [30,39]\n",
    "[x2,y2]= [155,38]\n",
    "[x3,y3]= [150,91]\n",
    "[x4,y4]= [24,89]\n",
    "\n",
    "pts_architectural = np.array([[x1, y1], [x2, y2], [x3, y3], [x4, y4]], dtype=np.float32)\n",
    "pts_flag = np.array([[0, 0], [flag_img.shape[1], 0], [flag_img.shape[1], flag_img.shape[0]], [0, flag_img.shape[0]]], dtype=np.float32)\n",
    "\n",
    "# Compute the homography matrix\n",
    "homography_matrix, _ = cv2.findHomography(pts_flag, pts_architectural)\n",
    "\n",
    "# Warp the flag image onto the architectural image\n",
    "warped_flag = cv2.warpPerspective(flag_img, homography_matrix, (architectural_img.shape[1], architectural_img.shape[0]))\n",
    "\n",
    "# Blend the warped flag onto the architectural image\n",
    "result = cv2.addWeighted(architectural_img, 1, warped_flag, 0.5, 0)\n",
    "\n",
    "# Display the result\n",
    "cv2.imshow('Superimposed Image', result)\n",
    "cv2.waitKey(0)\n",
    "cv2.destroyAllWindows()\n"
   ]
  },
  {
   "cell_type": "code",
   "execution_count": 7,
   "metadata": {},
   "outputs": [
    {
     "name": "stdout",
     "output_type": "stream",
     "text": [
      "Position: x=30, y=39\n",
      "Position: x=155, y=38\n",
      "Position: x=150, y=91\n",
      "Position: x=24, y=89\n"
     ]
    }
   ],
   "source": [
    "import cv2\n",
    "\n",
    "# Load an image\n",
    "image = cv2.imread('blob.jpeg')\n",
    "# Display the image\n",
    "cv2.imshow('Image', image)\n",
    "\n",
    "# Callback function for mouse click event\n",
    "def get_position(event, x, y, flags, param):\n",
    "    if event == cv2.EVENT_LBUTTONDOWN:  # Left mouse button clicked\n",
    "        print(f'Position: x={x}, y={y}')\n",
    "\n",
    "# Set the callback function for the window\n",
    "cv2.setMouseCallback('Image', get_position)\n",
    "\n",
    "# Wait for a mouse click event and close the window when a key is pressed\n",
    "cv2.waitKey(0)\n",
    "cv2.destroyAllWindows()\n"
   ]
  }
 ],
 "metadata": {
  "kernelspec": {
   "display_name": "cv",
   "language": "python",
   "name": "python3"
  },
  "language_info": {
   "codemirror_mode": {
    "name": "ipython",
    "version": 3
   },
   "file_extension": ".py",
   "mimetype": "text/x-python",
   "name": "python",
   "nbconvert_exporter": "python",
   "pygments_lexer": "ipython3",
   "version": "3.11.4"
  },
  "orig_nbformat": 4
 },
 "nbformat": 4,
 "nbformat_minor": 2
}
